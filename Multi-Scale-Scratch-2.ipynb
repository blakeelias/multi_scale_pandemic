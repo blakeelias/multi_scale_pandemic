{
 "cells": [
  {
   "cell_type": "code",
   "execution_count": 592,
   "metadata": {},
   "outputs": [],
   "source": [
    "import numpy as np"
   ]
  },
  {
   "cell_type": "code",
   "execution_count": 593,
   "metadata": {},
   "outputs": [
    {
     "data": {
      "text/plain": [
       "array([[1.1, 0.1, 0.1, 0.1, 0.1],\n",
       "       [0.1, 4.1, 0.1, 0.1, 0.1],\n",
       "       [0.1, 0.1, 9.1, 0.1, 0.1],\n",
       "       [0.1, 0.1, 0.1, 4.1, 0.1],\n",
       "       [0.1, 0.1, 0.1, 0.1, 1.1]])"
      ]
     },
     "execution_count": 593,
     "metadata": {},
     "output_type": "execute_result"
    }
   ],
   "source": [
    "M_a = np.ones((5, 5)) * 0.1 + np.diag([1, 4, 9, 4, 1])\n",
    "M_a"
   ]
  },
  {
   "cell_type": "code",
   "execution_count": 624,
   "metadata": {},
   "outputs": [],
   "source": [
    "g_ba = 2 * np.array([\n",
    "    [1., 1, 1, 0, 0],\n",
    "    #[0, 1, 0, 1, 0],\n",
    "    [0, 0, 0, 1, 1]\n",
    "])"
   ]
  },
  {
   "cell_type": "code",
   "execution_count": 595,
   "metadata": {},
   "outputs": [
    {
     "data": {
      "text/plain": [
       "array([[0.33333333, 0.        ],\n",
       "       [0.33333333, 0.        ],\n",
       "       [0.33333333, 0.        ],\n",
       "       [0.        , 0.5       ],\n",
       "       [0.        , 0.5       ]])"
      ]
     },
     "execution_count": 595,
     "metadata": {},
     "output_type": "execute_result"
    }
   ],
   "source": [
    "g_ab_pinv = np.linalg.pinv(g_ba)\n",
    "g_ab_pinv"
   ]
  },
  {
   "cell_type": "code",
   "execution_count": 596,
   "metadata": {},
   "outputs": [],
   "source": [
    "Lambda_col_a, V_a = np.linalg.eig(M_a)"
   ]
  },
  {
   "cell_type": "code",
   "execution_count": 597,
   "metadata": {},
   "outputs": [
    {
     "data": {
      "text/plain": [
       "(array([[9.10681865, 0.        , 0.        , 0.        , 0.        ],\n",
       "        [0.        , 1.        , 0.        , 0.        , 0.        ],\n",
       "        [0.        , 0.        , 1.18453057, 0.        , 0.        ],\n",
       "        [0.        , 0.        , 0.        , 4.20865078, 0.        ],\n",
       "        [0.        , 0.        , 0.        , 0.        , 4.        ]]),\n",
       " array([[ 1.31683508e-02,  7.07106781e-01, -7.05494997e-01,\n",
       "          4.58628808e-02, -2.95935493e-16],\n",
       "        [ 2.09040970e-02,  4.20002662e-17,  4.62393212e-02,\n",
       "          7.05283591e-01, -7.07106781e-01],\n",
       "        [ 9.99389427e-01, -5.89911047e-17,  1.66573993e-02,\n",
       "         -3.07132628e-02,  2.22849450e-16],\n",
       "        [ 2.09040970e-02, -2.11269419e-16,  4.62393212e-02,\n",
       "          7.05283591e-01,  7.07106781e-01],\n",
       "        [ 1.31683508e-02, -7.07106781e-01, -7.05494997e-01,\n",
       "          4.58628808e-02, -6.00452084e-16]]))"
      ]
     },
     "execution_count": 597,
     "metadata": {},
     "output_type": "execute_result"
    }
   ],
   "source": [
    "Lambda_a = np.diag(Lambda_col_a)\n",
    "Lambda_a, V_a"
   ]
  },
  {
   "cell_type": "code",
   "execution_count": 598,
   "metadata": {},
   "outputs": [
    {
     "data": {
      "text/plain": [
       "array([[1.1, 0.1, 0.1, 0.1, 0.1],\n",
       "       [0.1, 4.1, 0.1, 0.1, 0.1],\n",
       "       [0.1, 0.1, 9.1, 0.1, 0.1],\n",
       "       [0.1, 0.1, 0.1, 4.1, 0.1],\n",
       "       [0.1, 0.1, 0.1, 0.1, 1.1]])"
      ]
     },
     "execution_count": 598,
     "metadata": {},
     "output_type": "execute_result"
    }
   ],
   "source": [
    "V_a @ Lambda_a @ np.linalg.inv(V_a)"
   ]
  },
  {
   "cell_type": "code",
   "execution_count": 599,
   "metadata": {},
   "outputs": [
    {
     "data": {
      "text/plain": [
       "(array([[9.10681865, 0.        ],\n",
       "        [0.        , 4.20865078]]),\n",
       " array([[1.03346187, 0.72043321],\n",
       "        [0.03407245, 0.75114647]]))"
      ]
     },
     "execution_count": 599,
     "metadata": {},
     "output_type": "execute_result"
    }
   ],
   "source": [
    "n_b, n_a = g_ba.shape\n",
    "\n",
    "idx = Lambda_col_a.argsort()[-n_b:][::-1]\n",
    "Lambda_col_b = Lambda_col_a[idx]  # top n_b eigenvalues\n",
    "V_b = g_ba @ V_a[:,idx]           # corresponding eigenvectors\n",
    "\n",
    "Lambda_b = np.diag(Lambda_col_b)\n",
    "Lambda_b, V_b"
   ]
  },
  {
   "cell_type": "code",
   "execution_count": 600,
   "metadata": {},
   "outputs": [
    {
     "name": "stdout",
     "output_type": "stream",
     "text": [
      "X = [[ 0.99921801 -0.95836147]\n",
      " [-0.04532512  1.37477011]]\n"
     ]
    },
    {
     "data": {
      "text/plain": [
       "array([[ 0.01107931,  0.05043088],\n",
       "       [-0.01107931,  0.94956912],\n",
       "       [ 1.        , -1.        ],\n",
       "       [-0.01107931,  0.94956912],\n",
       "       [ 0.01107931,  0.05043088]])"
      ]
     },
     "execution_count": 600,
     "metadata": {},
     "output_type": "execute_result"
    }
   ],
   "source": [
    "top_eigenvectors = V_a[:, idx]\n",
    "X = np.linalg.inv(g_ba @ top_eigenvectors)\n",
    "print(f'X = {X}')\n",
    "g_ab_eig = top_eigenvectors @ X\n",
    "#g_ab_eig = top_eigenvectors / (g_ba @ top_eigenvectors)\n",
    "g_ab_eig"
   ]
  },
  {
   "cell_type": "code",
   "execution_count": 601,
   "metadata": {},
   "outputs": [
    {
     "data": {
      "text/plain": [
       "array([0.01316835, 0.0209041 , 0.99938943, 0.0209041 , 0.01316835])"
      ]
     },
     "execution_count": 601,
     "metadata": {},
     "output_type": "execute_result"
    }
   ],
   "source": [
    "top_eigenvector = top_eigenvectors[:, 0]\n",
    "top_eigenvector"
   ]
  },
  {
   "cell_type": "code",
   "execution_count": 625,
   "metadata": {},
   "outputs": [
    {
     "data": {
      "text/plain": [
       "array([[0.01274198, 0.        ],\n",
       "       [0.02022726, 0.        ],\n",
       "       [0.96703076, 0.        ],\n",
       "       [0.        , 0.61351908],\n",
       "       [0.        , 0.38648092]])"
      ]
     },
     "execution_count": 625,
     "metadata": {},
     "output_type": "execute_result"
    }
   ],
   "source": [
    "g_ab_top_eig = np.diag(top_eigenvector) @ g_ba.T @ np.linalg.inv(np.diag(g_ba @ top_eigenvector))\n",
    "g_ab_top_eig"
   ]
  },
  {
   "cell_type": "code",
   "execution_count": 626,
   "metadata": {},
   "outputs": [
    {
     "data": {
      "text/plain": [
       "array([[2., 0.],\n",
       "       [0., 2.]])"
      ]
     },
     "execution_count": 626,
     "metadata": {},
     "output_type": "execute_result"
    }
   ],
   "source": [
    "g_ba @ g_ab_top_eig"
   ]
  },
  {
   "cell_type": "code",
   "execution_count": 604,
   "metadata": {},
   "outputs": [
    {
     "data": {
      "text/plain": [
       "(array([0.01274198, 0.02022726, 0.96703076]), array([0.61351908, 0.38648092]))"
      ]
     },
     "execution_count": 604,
     "metadata": {},
     "output_type": "execute_result"
    }
   ],
   "source": [
    "top_eigenvector[:3] / sum(top_eigenvector[:3]),  top_eigenvector[3:] / sum(top_eigenvector[3:])"
   ]
  },
  {
   "cell_type": "code",
   "execution_count": 605,
   "metadata": {},
   "outputs": [
    {
     "data": {
      "text/plain": [
       "array([1.03346187, 0.03407245])"
      ]
     },
     "execution_count": 605,
     "metadata": {},
     "output_type": "execute_result"
    }
   ],
   "source": [
    "g_ba @ top_eigenvector"
   ]
  },
  {
   "cell_type": "code",
   "execution_count": 606,
   "metadata": {},
   "outputs": [
    {
     "data": {
      "text/plain": [
       "(array([[ 9.26676206, -4.85129263],\n",
       "        [ 0.16676206,  4.04870737]]),\n",
       " (array([9.10681865, 4.20865078]),\n",
       "  array([[0.99945696, 0.69219805],\n",
       "         [0.03295133, 0.7217076 ]])))"
      ]
     },
     "execution_count": 606,
     "metadata": {},
     "output_type": "execute_result"
    }
   ],
   "source": [
    "M_b = V_b @ Lambda_b @ np.linalg.inv(V_b)\n",
    "M_b, np.linalg.eig(M_b)"
   ]
  },
  {
   "cell_type": "code",
   "execution_count": 607,
   "metadata": {},
   "outputs": [
    {
     "data": {
      "text/plain": [
       "(array([[4.96666667, 0.3       ],\n",
       "        [0.2       , 2.7       ]]),\n",
       " (array([4.99283514, 2.67383152]),\n",
       "  array([[ 0.99621719, -0.12973656],\n",
       "         [ 0.08689828,  0.9915485 ]])))"
      ]
     },
     "execution_count": 607,
     "metadata": {},
     "output_type": "execute_result"
    }
   ],
   "source": [
    "M_b_pinv = g_ba @ M_a @ g_ab_pinv\n",
    "M_b_pinv, np.linalg.eig(M_b_pinv)"
   ]
  },
  {
   "cell_type": "code",
   "execution_count": 608,
   "metadata": {},
   "outputs": [
    {
     "data": {
      "text/plain": [
       "(array([[9.09692788, 0.3       ],\n",
       "        [0.2       , 3.04055725]]),\n",
       " (array([9.10681865, 3.03066648]),\n",
       "  array([[ 0.99945696, -0.04939349],\n",
       "         [ 0.03295133,  0.9987794 ]])))"
      ]
     },
     "execution_count": 608,
     "metadata": {},
     "output_type": "execute_result"
    }
   ],
   "source": [
    "M_b_top_eig = g_ba @ M_a @ g_ab_top_eig\n",
    "M_b_top_eig, np.linalg.eig(M_b_top_eig)"
   ]
  },
  {
   "cell_type": "code",
   "execution_count": 609,
   "metadata": {},
   "outputs": [
    {
     "data": {
      "text/plain": [
       "(array([[ 9.26676206, -4.85129263],\n",
       "        [ 0.16676206,  4.04870737]]),\n",
       " (array([9.10681865, 4.20865078]),\n",
       "  array([[0.99945696, 0.69219805],\n",
       "         [0.03295133, 0.7217076 ]])))"
      ]
     },
     "execution_count": 609,
     "metadata": {},
     "output_type": "execute_result"
    }
   ],
   "source": [
    "M_b_eig = g_ba @ M_a @ g_ab_eig\n",
    "M_b_eig, np.linalg.eig(M_b_eig)"
   ]
  },
  {
   "cell_type": "code",
   "execution_count": 610,
   "metadata": {},
   "outputs": [
    {
     "data": {
      "text/plain": [
       "(array([9.10681865, 1.        , 1.18453057, 4.20865078, 4.        ]),\n",
       " array([[ 1.31683508e-02,  7.07106781e-01, -7.05494997e-01,\n",
       "          4.58628808e-02, -2.95935493e-16],\n",
       "        [ 2.09040970e-02,  4.20002662e-17,  4.62393212e-02,\n",
       "          7.05283591e-01, -7.07106781e-01],\n",
       "        [ 9.99389427e-01, -5.89911047e-17,  1.66573993e-02,\n",
       "         -3.07132628e-02,  2.22849450e-16],\n",
       "        [ 2.09040970e-02, -2.11269419e-16,  4.62393212e-02,\n",
       "          7.05283591e-01,  7.07106781e-01],\n",
       "        [ 1.31683508e-02, -7.07106781e-01, -7.05494997e-01,\n",
       "          4.58628808e-02, -6.00452084e-16]]))"
      ]
     },
     "execution_count": 610,
     "metadata": {},
     "output_type": "execute_result"
    }
   ],
   "source": [
    "np.linalg.eig(M_a)"
   ]
  },
  {
   "cell_type": "code",
   "execution_count": 611,
   "metadata": {},
   "outputs": [],
   "source": [
    "# N_a_0 = np.array([[1., 1., 1., 1., 1.]]).T\n",
    "N_a_0 = np.array([[1., 0., 0., 0., 0.]]).T"
   ]
  },
  {
   "cell_type": "code",
   "execution_count": 612,
   "metadata": {},
   "outputs": [],
   "source": [
    "T = 10"
   ]
  },
  {
   "cell_type": "code",
   "execution_count": 613,
   "metadata": {},
   "outputs": [
    {
     "data": {
      "text/plain": [
       "[array([[1.],\n",
       "        [0.],\n",
       "        [0.],\n",
       "        [0.],\n",
       "        [0.]]),\n",
       " array([[1.1],\n",
       "        [0.1],\n",
       "        [0.1],\n",
       "        [0.1],\n",
       "        [0.1]]),\n",
       " array([[1.25],\n",
       "        [0.55],\n",
       "        [1.05],\n",
       "        [0.55],\n",
       "        [0.25]]),\n",
       " array([[1.615],\n",
       "        [2.565],\n",
       "        [9.815],\n",
       "        [2.565],\n",
       "        [0.615]]),\n",
       " array([[ 3.3325],\n",
       "        [11.9775],\n",
       "        [90.0525],\n",
       "        [11.9775],\n",
       "        [ 2.3325]]),\n",
       " array([[ 15.29975],\n",
       "        [ 59.87725],\n",
       "        [822.43975],\n",
       "        [ 59.87725],\n",
       "        [ 14.29975]]),\n",
       " array([[ 112.479125],\n",
       "        [ 336.688375],\n",
       "        [7499.137125],\n",
       "        [ 336.688375],\n",
       "        [ 111.479125]]),\n",
       " array([[  952.1263375],\n",
       "        [ 2186.4007125],\n",
       "        [68331.8813375],\n",
       "        [ 2186.4007125],\n",
       "        [  951.1263375]]),\n",
       " array([[  8412.91988125],\n",
       "        [ 16206.39639375],\n",
       "        [622447.72558125],\n",
       "        [ 16206.39639375],\n",
       "        [  8411.91988125]]),\n",
       " array([[  75581.45569438],\n",
       "        [ 131994.12138813],\n",
       "        [5669198.06604438],\n",
       "        [ 131994.12138813],\n",
       "        [  75580.45569438]])]"
      ]
     },
     "execution_count": 613,
     "metadata": {},
     "output_type": "execute_result"
    }
   ],
   "source": [
    "N_a = [np.linalg.matrix_power(M_a, t) @ N_a_0 for t in range(T)]\n",
    "N_a"
   ]
  },
  {
   "cell_type": "code",
   "execution_count": 614,
   "metadata": {},
   "outputs": [
    {
     "data": {
      "text/plain": [
       "[array([[1.],\n",
       "        [0.]]),\n",
       " array([[1.3],\n",
       "        [0.2]]),\n",
       " array([[2.85],\n",
       "        [0.8 ]]),\n",
       " array([[13.995],\n",
       "        [ 3.18 ]]),\n",
       " array([[105.3625],\n",
       "        [ 14.31  ]]),\n",
       " array([[897.61675],\n",
       "        [ 74.177  ]]),\n",
       " array([[7948.304625],\n",
       "        [ 448.1675  ]]),\n",
       " array([[71470.4083875],\n",
       "        [ 3137.52705  ]]),\n",
       " array([[647067.04185625],\n",
       "        [ 24618.316275  ]]),\n",
       " array([[5876773.64312688],\n",
       "        [ 207574.5770825 ]])]"
      ]
     },
     "execution_count": 614,
     "metadata": {},
     "output_type": "execute_result"
    }
   ],
   "source": [
    "N_b = [g_ba @ N_a_i for N_a_i in N_a]\n",
    "N_b"
   ]
  },
  {
   "cell_type": "code",
   "execution_count": 615,
   "metadata": {},
   "outputs": [
    {
     "data": {
      "text/plain": [
       "[array([[1.],\n",
       "        [0.]]),\n",
       " array([[9.26676206],\n",
       "        [0.16676206]]),\n",
       " array([[85.06386754],\n",
       "        [ 2.22051513]]),\n",
       " array([[777.49425187],\n",
       "        [ 23.17564189]]),\n",
       " array([[7092.42241551],\n",
       "        [ 223.48793633]]),\n",
       " array([[64639.58558541],\n",
       "        [ 2087.58423759]]),\n",
       " array([[588872.17734402],\n",
       "        [ 19231.4482313 ]]),\n",
       " array([[5363640.96898176],\n",
       "        [ 176064.04440969]]),\n",
       " array([[48849446.44150172],\n",
       "        [ 1607283.6190139 ]]),\n",
       " array([[4.44878794e+08],\n",
       "        [1.46536554e+07]])]"
      ]
     },
     "execution_count": 615,
     "metadata": {},
     "output_type": "execute_result"
    }
   ],
   "source": [
    "N_b_hat = [np.linalg.matrix_power(M_b, t) @ N_b[0] for t in range(T)]\n",
    "N_b_hat"
   ]
  },
  {
   "cell_type": "code",
   "execution_count": 616,
   "metadata": {},
   "outputs": [
    {
     "data": {
      "text/plain": [
       "[array([[1.],\n",
       "        [0.]]),\n",
       " array([[4.96666667],\n",
       "        [0.2       ]]),\n",
       " array([[24.72777778],\n",
       "        [ 1.53333333]]),\n",
       " array([[123.27462963],\n",
       "        [  9.08555556]]),\n",
       " array([[614.98966049],\n",
       "        [ 49.18592593]]),\n",
       " array([[3069.2044249],\n",
       "        [ 255.7999321]]),\n",
       " array([[15320.45528995],\n",
       "        [ 1304.50070165]]),\n",
       " array([[76482.94481726],\n",
       "        [ 6586.24295243]]),\n",
       " array([[381841.1654781 ],\n",
       "        [ 33079.44493503]]),\n",
       " array([[1906401.62202173],\n",
       "        [ 165682.73442019]])]"
      ]
     },
     "execution_count": 616,
     "metadata": {},
     "output_type": "execute_result"
    }
   ],
   "source": [
    "N_b_hat_pinv = [np.linalg.matrix_power(M_b_pinv, t) @ N_b[0] for t in range(T)]\n",
    "N_b_hat_pinv"
   ]
  },
  {
   "cell_type": "code",
   "execution_count": 617,
   "metadata": {},
   "outputs": [
    {
     "data": {
      "text/plain": [
       "[array([[1.],\n",
       "        [0.]]),\n",
       " array([[9.09692788],\n",
       "        [0.2       ]]),\n",
       " array([[82.81409689],\n",
       "        [ 2.42749703]]),\n",
       " array([[754.08211619],\n",
       "        [ 23.94376307]]),\n",
       " array([[6867.01375718],\n",
       "        [ 223.61880565]]),\n",
       " array([[62535.81455708],\n",
       "        [ 2053.32853248]]),\n",
       " array([[569499.79364219],\n",
       "        [ 18750.42587006]]),\n",
       " array([[5186323.67947061],\n",
       "        [ 170911.70207189]]),\n",
       " array([[47230885.99668318],\n",
       "        [ 1556931.55095434]]),\n",
       " array([[4.30123043e+08],\n",
       "        [1.41801167e+07]])]"
      ]
     },
     "execution_count": 617,
     "metadata": {},
     "output_type": "execute_result"
    }
   ],
   "source": [
    "N_b_hat_top_eig = [np.linalg.matrix_power(M_b_top_eig, t) @ N_b[0] for t in range(T)]\n",
    "N_b_hat_top_eig"
   ]
  },
  {
   "cell_type": "code",
   "execution_count": 618,
   "metadata": {},
   "outputs": [
    {
     "data": {
      "text/plain": [
       "[array([[1.],\n",
       "        [0.]]),\n",
       " array([[9.26676206],\n",
       "        [0.16676206]]),\n",
       " array([[85.06386754],\n",
       "        [ 2.22051513]]),\n",
       " array([[777.49425187],\n",
       "        [ 23.17564189]]),\n",
       " array([[7092.42241551],\n",
       "        [ 223.48793633]]),\n",
       " array([[64639.58558541],\n",
       "        [ 2087.58423759]]),\n",
       " array([[588872.17734402],\n",
       "        [ 19231.4482313 ]]),\n",
       " array([[5363640.96898177],\n",
       "        [ 176064.04440969]]),\n",
       " array([[48849446.4415018 ],\n",
       "        [ 1607283.61901388]]),\n",
       " array([[4.44878794e+08],\n",
       "        [1.46536554e+07]])]"
      ]
     },
     "execution_count": 618,
     "metadata": {},
     "output_type": "execute_result"
    }
   ],
   "source": [
    "N_b_hat_eig = [np.linalg.matrix_power(M_b_eig, t) @ N_b[0] for t in range(T)]\n",
    "N_b_hat_eig"
   ]
  },
  {
   "cell_type": "code",
   "execution_count": 619,
   "metadata": {},
   "outputs": [
    {
     "data": {
      "text/plain": [
       "'4.392396E+08'"
      ]
     },
     "execution_count": 619,
     "metadata": {},
     "output_type": "execute_result"
    }
   ],
   "source": [
    "'%E' % np.linalg.norm((N_b_hat[-1] - N_b[-1]))"
   ]
  },
  {
   "cell_type": "code",
   "execution_count": 620,
   "metadata": {},
   "outputs": [
    {
     "data": {
      "text/plain": [
       "'4.392396E+08'"
      ]
     },
     "execution_count": 620,
     "metadata": {},
     "output_type": "execute_result"
    }
   ],
   "source": [
    "'%E' % np.linalg.norm((N_b_hat_eig[-1] - N_b[-1]))"
   ]
  },
  {
   "cell_type": "code",
   "execution_count": 621,
   "metadata": {},
   "outputs": [
    {
     "data": {
      "text/plain": [
       "'4.244763E+08'"
      ]
     },
     "execution_count": 621,
     "metadata": {},
     "output_type": "execute_result"
    }
   ],
   "source": [
    "'%E' % np.linalg.norm((N_b_hat_top_eig[-1] - N_b[-1]))"
   ]
  },
  {
   "cell_type": "code",
   "execution_count": 622,
   "metadata": {},
   "outputs": [
    {
     "data": {
      "text/plain": [
       "'3.970593E+06'"
      ]
     },
     "execution_count": 622,
     "metadata": {},
     "output_type": "execute_result"
    }
   ],
   "source": [
    "'%E' % np.linalg.norm((N_b_hat_pinv[-1] - N_b[-1]))"
   ]
  },
  {
   "cell_type": "code",
   "execution_count": null,
   "metadata": {},
   "outputs": [],
   "source": [
    "def evolve(M, N_0, num_steps=10):\n",
    "    return [np.linalg.matrix_power(M, t) @ N_0 for t in range(num_steps)]\n",
    "\n",
    "def evaluate(M_a=None, M_b=None, g_ba=None, N_a_0=None, num_steps=10):\n",
    "    N_b_0 = g_ba @ N_a_0\n",
    "    \n",
    "    N_a = evolve(M_a, N_a_0, num_steps=num_steps)\n",
    "    N_b = [g_ba @ N_a_t for N_a_t in N_a]\n",
    "    N_b_hat = evolve(M_b, N_b_0, num_steps=num_steps)\n",
    "\n",
    "    return {\n",
    "        'N_a': N_a,\n",
    "        'N_b': N_b,\n",
    "        'N_b_hat': N_b_hat\n",
    "    }"
   ]
  }
 ],
 "metadata": {
  "kernelspec": {
   "display_name": "Python 3",
   "language": "python",
   "name": "python3"
  },
  "language_info": {
   "codemirror_mode": {
    "name": "ipython",
    "version": 3
   },
   "file_extension": ".py",
   "mimetype": "text/x-python",
   "name": "python",
   "nbconvert_exporter": "python",
   "pygments_lexer": "ipython3",
   "version": "3.8.2"
  }
 },
 "nbformat": 4,
 "nbformat_minor": 4
}
