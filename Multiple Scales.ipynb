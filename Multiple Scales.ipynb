{
 "cells": [
  {
   "cell_type": "code",
   "execution_count": 1,
   "metadata": {},
   "outputs": [],
   "source": [
    "import numpy as np\n",
    "import pandas as pd"
   ]
  },
  {
   "cell_type": "code",
   "execution_count": 2,
   "metadata": {},
   "outputs": [],
   "source": [
    "import projections\n",
    "projector = projections.Projections()"
   ]
  },
  {
   "cell_type": "markdown",
   "metadata": {},
   "source": [
    "## Define Matrices"
   ]
  },
  {
   "cell_type": "markdown",
   "metadata": {},
   "source": [
    "## M_a"
   ]
  },
  {
   "cell_type": "code",
   "execution_count": 3,
   "metadata": {},
   "outputs": [
    {
     "data": {
      "text/plain": [
       "array([[8.01, 0.01, 0.01, 0.01],\n",
       "       [0.01, 4.01, 0.01, 0.01],\n",
       "       [0.01, 0.01, 1.01, 0.01],\n",
       "       [0.01, 0.01, 0.01, 1.01]])"
      ]
     },
     "execution_count": 3,
     "metadata": {},
     "output_type": "execute_result"
    }
   ],
   "source": [
    "M_a = np.ones((4, 4)) * 0.01 + np.diag([8, 4, 1, 1])\n",
    "M_a.round(decimals=3)"
   ]
  },
  {
   "cell_type": "markdown",
   "metadata": {},
   "source": [
    "## M_b"
   ]
  },
  {
   "cell_type": "code",
   "execution_count": 4,
   "metadata": {},
   "outputs": [],
   "source": [
    "g_ba = np.array([\n",
    "    [1., 1, 0, 0],\n",
    "    [0, 0, 1, 1]\n",
    "])"
   ]
  },
  {
   "cell_type": "code",
   "execution_count": 5,
   "metadata": {},
   "outputs": [
    {
     "data": {
      "text/plain": [
       "(array([8.01005376, 1.01990469, 4.01004155, 1.        ]),\n",
       " array([[ 1.   ,  0.002, -0.003, -0.   ],\n",
       "        [ 0.003,  0.005,  1.   ,  0.   ],\n",
       "        [ 0.001, -0.707,  0.003, -0.707],\n",
       "        [ 0.001, -0.707,  0.003,  0.707]]))"
      ]
     },
     "execution_count": 5,
     "metadata": {},
     "output_type": "execute_result"
    }
   ],
   "source": [
    "Lambda_col_a, V_a = np.linalg.eig(M_a)\n",
    "Lambda_col_a, V_a.round(decimals=3)"
   ]
  },
  {
   "cell_type": "code",
   "execution_count": 6,
   "metadata": {},
   "outputs": [
    {
     "data": {
      "text/plain": [
       "(array([8.01005376, 4.01004155]),\n",
       " array([[ 1.   , -0.003],\n",
       "        [ 0.003,  1.   ],\n",
       "        [ 0.001,  0.003],\n",
       "        [ 0.001,  0.003]]))"
      ]
     },
     "execution_count": 6,
     "metadata": {},
     "output_type": "execute_result"
    }
   ],
   "source": [
    "n_b, n_a = g_ba.shape\n",
    "\n",
    "idx = Lambda_col_a.argsort()[-n_b:][::-1]   # -n_b\n",
    "Lambda_col_a_top_b = Lambda_col_a[idx]  # top 1 eigenvector... # n_b eigenvalues\n",
    "V_a_top_b = V_a[:,idx]           # corresponding eigenvectors\n",
    "\n",
    "Lambda_col_a_top_b, V_a_top_b.round(decimals=3)"
   ]
  },
  {
   "cell_type": "code",
   "execution_count": 7,
   "metadata": {},
   "outputs": [
    {
     "data": {
      "text/plain": [
       "array([[0.33333333, 0.66666667],\n",
       "       [0.66666667, 0.33333333]])"
      ]
     },
     "execution_count": 7,
     "metadata": {},
     "output_type": "execute_result"
    }
   ],
   "source": [
    "A = np.array([\n",
    "    [-1, 2],\n",
    "    [2, -1.]\n",
    "])\n",
    "np.linalg.inv(A)"
   ]
  },
  {
   "cell_type": "code",
   "execution_count": 8,
   "metadata": {},
   "outputs": [
    {
     "data": {
      "text/plain": [
       "array([[1.003, 0.997],\n",
       "       [0.003, 0.007]])"
      ]
     },
     "execution_count": 8,
     "metadata": {},
     "output_type": "execute_result"
    }
   ],
   "source": [
    "(g_ba @ V_a_top_b).round(decimals=3)"
   ]
  },
  {
   "cell_type": "code",
   "execution_count": 9,
   "metadata": {},
   "outputs": [
    {
     "data": {
      "text/plain": [
       "array([[   1.743, -260.604],\n",
       "       [  -0.749,  261.919]])"
      ]
     },
     "execution_count": 9,
     "metadata": {},
     "output_type": "execute_result"
    }
   ],
   "source": [
    "np.linalg.inv(g_ba @ V_a_top_b).round(decimals=3)"
   ]
  },
  {
   "cell_type": "code",
   "execution_count": 10,
   "metadata": {},
   "outputs": [
    {
     "data": {
      "text/plain": [
       "array([[ 1.74502383e+00, -2.61261890e+02],\n",
       "       [-7.45023827e-01,  2.61261890e+02],\n",
       "       [-6.23545054e-17,  5.00000000e-01],\n",
       "       [ 6.24464685e-17,  5.00000000e-01]])"
      ]
     },
     "execution_count": 10,
     "metadata": {},
     "output_type": "execute_result"
    }
   ],
   "source": [
    "g_ab = V_a_top_b @ np.linalg.inv(g_ba @ V_a_top_b)\n",
    "g_ab"
   ]
  },
  {
   "cell_type": "code",
   "execution_count": 11,
   "metadata": {},
   "outputs": [
    {
     "data": {
      "text/plain": [
       "array([[0.5, 0. ],\n",
       "       [0.5, 0. ],\n",
       "       [0. , 0.5],\n",
       "       [0. , 0.5]])"
      ]
     },
     "execution_count": 11,
     "metadata": {},
     "output_type": "execute_result"
    }
   ],
   "source": [
    "g_ab_pinv = g_ba.T @ np.linalg.inv(g_ba @ g_ba.T)\n",
    "g_ab_pinv"
   ]
  },
  {
   "cell_type": "code",
   "execution_count": 12,
   "metadata": {},
   "outputs": [
    {
     "data": {
      "text/plain": [
       "array([1., 1.])"
      ]
     },
     "execution_count": 12,
     "metadata": {},
     "output_type": "execute_result"
    }
   ],
   "source": [
    "g_ab.sum(axis=0)"
   ]
  },
  {
   "cell_type": "markdown",
   "metadata": {},
   "source": [
    "### Finally, M_b:"
   ]
  },
  {
   "cell_type": "code",
   "execution_count": 13,
   "metadata": {},
   "outputs": [
    {
     "data": {
      "text/plain": [
       "array([[ 1.100000e+01, -1.045028e+03],\n",
       "       [ 2.000000e-02,  1.020000e+00]])"
      ]
     },
     "execution_count": 13,
     "metadata": {},
     "output_type": "execute_result"
    }
   ],
   "source": [
    "M_b = g_ba @ M_a @ V_a_top_b @ np.linalg.inv(g_ba @ V_a_top_b)\n",
    "M_b.round(decimals=3)"
   ]
  },
  {
   "cell_type": "code",
   "execution_count": 14,
   "metadata": {},
   "outputs": [
    {
     "data": {
      "text/plain": [
       "array([[-116571.53145429],\n",
       "       [   -269.23673063]])"
      ]
     },
     "execution_count": 14,
     "metadata": {},
     "output_type": "execute_result"
    }
   ],
   "source": [
    "M_b @ M_b @ M_b @ np.array([[1, 1.]]).T"
   ]
  },
  {
   "cell_type": "markdown",
   "metadata": {},
   "source": [
    "## M_c"
   ]
  },
  {
   "cell_type": "code",
   "execution_count": 15,
   "metadata": {},
   "outputs": [],
   "source": [
    "g_cb = np.array([\n",
    "    [1., 1.],\n",
    "])"
   ]
  },
  {
   "cell_type": "code",
   "execution_count": 16,
   "metadata": {},
   "outputs": [
    {
     "data": {
      "text/plain": [
       "(array([8.01005376, 4.01004155]),\n",
       " array([[1.   , 1.   ],\n",
       "        [0.003, 0.007]]))"
      ]
     },
     "execution_count": 16,
     "metadata": {},
     "output_type": "execute_result"
    }
   ],
   "source": [
    "Lambda_col_b, V_b = np.linalg.eig(M_b)\n",
    "Lambda_col_b, V_b.round(decimals=3)"
   ]
  },
  {
   "cell_type": "code",
   "execution_count": 17,
   "metadata": {},
   "outputs": [
    {
     "data": {
      "text/plain": [
       "(array([8.01005376]),\n",
       " array([[1.   ],\n",
       "        [0.003]]))"
      ]
     },
     "execution_count": 17,
     "metadata": {},
     "output_type": "execute_result"
    }
   ],
   "source": [
    "n_c, n_b = g_cb.shape\n",
    "\n",
    "idx = Lambda_col_b.argsort()[-n_c:][::-1]\n",
    "Lambda_col_b_top_c = Lambda_col_b[idx]  # top n_b eigenvalues\n",
    "V_b_top_c = V_b[:,idx]           # corresponding eigenvectors\n",
    "\n",
    "Lambda_col_b_top_c, V_b_top_c.round(decimals=3)"
   ]
  },
  {
   "cell_type": "code",
   "execution_count": 18,
   "metadata": {},
   "outputs": [
    {
     "data": {
      "text/plain": [
       "array([[1.003]])"
      ]
     },
     "execution_count": 18,
     "metadata": {},
     "output_type": "execute_result"
    }
   ],
   "source": [
    "(g_cb @ V_b_top_c).round(decimals=3)"
   ]
  },
  {
   "cell_type": "code",
   "execution_count": 19,
   "metadata": {},
   "outputs": [
    {
     "data": {
      "text/plain": [
       "array([[0.997]])"
      ]
     },
     "execution_count": 19,
     "metadata": {},
     "output_type": "execute_result"
    }
   ],
   "source": [
    "np.linalg.inv(g_cb @ V_b_top_c).round(decimals=3)"
   ]
  },
  {
   "cell_type": "markdown",
   "metadata": {},
   "source": [
    "## Finally, M_c"
   ]
  },
  {
   "cell_type": "code",
   "execution_count": 20,
   "metadata": {},
   "outputs": [
    {
     "data": {
      "text/plain": [
       "array([[8.01]])"
      ]
     },
     "execution_count": 20,
     "metadata": {},
     "output_type": "execute_result"
    }
   ],
   "source": [
    "M_c = g_cb @ M_b @ V_b_top_c @ np.linalg.inv(g_cb @ V_b_top_c)\n",
    "M_c.round(decimals=3)"
   ]
  },
  {
   "cell_type": "markdown",
   "metadata": {},
   "source": [
    "# Evolving in time"
   ]
  },
  {
   "cell_type": "markdown",
   "metadata": {},
   "source": [
    "## Initial Conditions"
   ]
  },
  {
   "cell_type": "code",
   "execution_count": 21,
   "metadata": {},
   "outputs": [
    {
     "data": {
      "text/plain": [
       "array([[1.],\n",
       "       [0.],\n",
       "       [1.],\n",
       "       [0.]])"
      ]
     },
     "execution_count": 21,
     "metadata": {},
     "output_type": "execute_result"
    }
   ],
   "source": [
    "N_a_0 = np.array([[1., 0., 1., 0.]]).T\n",
    "N_a_0"
   ]
  },
  {
   "cell_type": "code",
   "execution_count": 22,
   "metadata": {},
   "outputs": [
    {
     "data": {
      "text/plain": [
       "array([[1.],\n",
       "       [1.]])"
      ]
     },
     "execution_count": 22,
     "metadata": {},
     "output_type": "execute_result"
    }
   ],
   "source": [
    "N_b_0 = g_ba @ N_a_0\n",
    "N_b_0"
   ]
  },
  {
   "cell_type": "code",
   "execution_count": 23,
   "metadata": {},
   "outputs": [
    {
     "data": {
      "text/plain": [
       "array([[2.]])"
      ]
     },
     "execution_count": 23,
     "metadata": {},
     "output_type": "execute_result"
    }
   ],
   "source": [
    "N_c_0 = g_cb @ N_b_0\n",
    "N_c_0"
   ]
  },
  {
   "cell_type": "markdown",
   "metadata": {},
   "source": [
    "## Time Series N_a"
   ]
  },
  {
   "cell_type": "code",
   "execution_count": 24,
   "metadata": {},
   "outputs": [
    {
     "data": {
      "text/plain": [
       "[array([[1.],\n",
       "        [0.],\n",
       "        [1.],\n",
       "        [0.]]),\n",
       " array([[8.02],\n",
       "        [0.02],\n",
       "        [1.02],\n",
       "        [0.02]]),\n",
       " array([[64.251],\n",
       "        [ 0.171],\n",
       "        [ 1.111],\n",
       "        [ 0.111]]),\n",
       " array([[514.663],\n",
       "        [  1.34 ],\n",
       "        [  1.767],\n",
       "        [  0.767]]),\n",
       " array([[4122.488],\n",
       "        [  10.544],\n",
       "        [   6.953],\n",
       "        [   5.953]]),\n",
       " array([[33021.364],\n",
       "        [   83.635],\n",
       "        [   48.412],\n",
       "        [   47.412]]),\n",
       " array([[264502.917],\n",
       "        [   666.548],\n",
       "        [   380.42 ],\n",
       "        [   379.42 ]]),\n",
       " array([[2118682.628],\n",
       "        [   5325.485],\n",
       "        [   3039.713],\n",
       "        [   3038.713]]),\n",
       " array([[16970761.886],\n",
       "        [   42602.807],\n",
       "        [   24340.579],\n",
       "        [   24339.579]]),\n",
       " array([[1.35936716e+08],\n",
       "        [3.41031675e+05],\n",
       "        [1.94961027e+05],\n",
       "        [1.94960027e+05]])]"
      ]
     },
     "execution_count": 24,
     "metadata": {},
     "output_type": "execute_result"
    }
   ],
   "source": [
    "N_a_t = [(np.linalg.matrix_power(M_a, t) @ N_a_0).round(decimals=3) for t in range(10)]\n",
    "N_a_t\n",
    "\n",
    "\n",
    "# What best subspace to choose?\n",
    "\n",
    "# Strictly required:\n",
    "# Additional restriction on V such that always get positive entries of M_b\n",
    "# Only allocate cases from a coarse-grained region into the fine grained regions that it includes\n",
    "# (i.e. N^b = g_ba N^a)\n",
    "# g_ba^{-1} should start with g_ba.T, only gets to modify entries that have 1's in them, have each column sum to 1.\n",
    "\n",
    "# Desired:\n",
    "# So long-term trajectory stays the same.\n",
    "# Don't stray too far... How far off will we be?\n",
    "\n",
    "# Questions:\n",
    "# Does 2nd largest eigenvalue need to be here? [Can't be there exactly...]\n",
    "\n",
    "# Ideas:\n",
    "# Split cases only using top 1 eigenvector\n",
    "# Split cases using 2x2 sub-matrices within the coarse-grained region"
   ]
  },
  {
   "cell_type": "markdown",
   "metadata": {},
   "source": [
    "## Time Series N_b"
   ]
  },
  {
   "cell_type": "code",
   "execution_count": 25,
   "metadata": {},
   "outputs": [
    {
     "data": {
      "text/plain": [
       "[array([[1.],\n",
       "        [1.]]),\n",
       " array([[8.04],\n",
       "        [1.04]]),\n",
       " array([[64.422],\n",
       "        [ 1.222]]),\n",
       " array([[516.002],\n",
       "        [  2.534]]),\n",
       " array([[4133.032],\n",
       "        [  12.905]]),\n",
       " array([[33104.999],\n",
       "        [   95.824]]),\n",
       " array([[265169.465],\n",
       "        [   759.84 ]]),\n",
       " array([[2124008.113],\n",
       "        [   6078.427]]),\n",
       " array([[17013364.692],\n",
       "        [   48680.157]]),\n",
       " array([[1.36277747e+08],\n",
       "        [3.89921054e+05]])]"
      ]
     },
     "execution_count": 25,
     "metadata": {},
     "output_type": "execute_result"
    }
   ],
   "source": [
    "N_b_t = [(g_ba @ np.linalg.matrix_power(M_a, t) @ N_a_0).round(decimals=3) for t in range(10)]\n",
    "N_b_t"
   ]
  },
  {
   "cell_type": "markdown",
   "metadata": {},
   "source": [
    "## Time Series N_c"
   ]
  },
  {
   "cell_type": "code",
   "execution_count": 26,
   "metadata": {},
   "outputs": [
    {
     "data": {
      "text/plain": [
       "[array([[2.]]),\n",
       " array([[9.08]]),\n",
       " array([[65.643]]),\n",
       " array([[518.537]]),\n",
       " array([[4145.937]]),\n",
       " array([[33200.822]]),\n",
       " array([[265929.305]]),\n",
       " array([[2130086.539]]),\n",
       " array([[17062044.85]]),\n",
       " array([[1.36667668e+08]])]"
      ]
     },
     "execution_count": 26,
     "metadata": {},
     "output_type": "execute_result"
    }
   ],
   "source": [
    "N_c_t = [(g_cb @ g_ba @ np.linalg.matrix_power(M_a, t) @ N_a_0).round(decimals=3) for t in range(10)]\n",
    "N_c_t"
   ]
  },
  {
   "cell_type": "markdown",
   "metadata": {},
   "source": [
    "## Time Series N_b_hat"
   ]
  },
  {
   "cell_type": "code",
   "execution_count": 27,
   "metadata": {},
   "outputs": [
    {
     "data": {
      "text/plain": [
       "[array([[1.],\n",
       "        [1.]]),\n",
       " array([[-1034.027],\n",
       "        [    1.04 ]]),\n",
       " array([[-12461.229],\n",
       "        [   -19.62 ]]),\n",
       " array([[-116571.531],\n",
       "        [   -269.237]]),\n",
       " array([[-1000938.153],\n",
       "        [   -2606.052]]),\n",
       " array([[-8287018.818],\n",
       "        [  -22676.936]]),\n",
       " array([[-67459973.542],\n",
       "        [  -188870.851]]),\n",
       " array([[-5.44690894e+08],\n",
       "        [-1.54184774e+06]]),\n",
       " array([[-4.38037836e+09],\n",
       "        [-1.24665026e+07]]),\n",
       " array([[-3.51567407e+10],\n",
       "        [-1.00323400e+08]])]"
      ]
     },
     "execution_count": 27,
     "metadata": {},
     "output_type": "execute_result"
    }
   ],
   "source": [
    "N_b_hat_t = [(np.linalg.matrix_power(M_b, t) @ N_b_0).round(decimals=3) for t in range(10)]\n",
    "N_b_hat_t"
   ]
  },
  {
   "cell_type": "markdown",
   "metadata": {},
   "source": [
    "## Time Series N_c_hat"
   ]
  },
  {
   "cell_type": "code",
   "execution_count": 28,
   "metadata": {},
   "outputs": [
    {
     "data": {
      "text/plain": [
       "[array([[2.]]),\n",
       " array([[16.02]]),\n",
       " array([[128.322]]),\n",
       " array([[1027.865]]),\n",
       " array([[8233.258]]),\n",
       " array([[65948.838]]),\n",
       " array([[528253.739]]),\n",
       " array([[4231340.843]]),\n",
       " array([[33893267.612]]),\n",
       " array([[2.71486896e+08]])]"
      ]
     },
     "execution_count": 28,
     "metadata": {},
     "output_type": "execute_result"
    }
   ],
   "source": [
    "N_c_hat_t = [(np.linalg.matrix_power(M_c, t) @ N_c_0).round(decimals=3) for t in range(10)]\n",
    "N_c_hat_t"
   ]
  },
  {
   "cell_type": "markdown",
   "metadata": {},
   "source": [
    "## An alternate M_b construction"
   ]
  },
  {
   "cell_type": "code",
   "execution_count": 29,
   "metadata": {},
   "outputs": [
    {
     "data": {
      "text/plain": [
       "array([[8.01, 0.01, 0.01, 0.01],\n",
       "       [0.01, 4.01, 0.01, 0.01],\n",
       "       [0.01, 0.01, 1.01, 0.01],\n",
       "       [0.01, 0.01, 0.01, 1.01]])"
      ]
     },
     "execution_count": 29,
     "metadata": {},
     "output_type": "execute_result"
    }
   ],
   "source": [
    "M_a"
   ]
  },
  {
   "cell_type": "code",
   "execution_count": 30,
   "metadata": {},
   "outputs": [
    {
     "data": {
      "text/plain": [
       "array([[1., 1., 0., 0.],\n",
       "       [0., 0., 1., 1.]])"
      ]
     },
     "execution_count": 30,
     "metadata": {},
     "output_type": "execute_result"
    }
   ],
   "source": [
    "g_ba"
   ]
  },
  {
   "cell_type": "code",
   "execution_count": 31,
   "metadata": {},
   "outputs": [
    {
     "data": {
      "text/plain": [
       "array([[12.04,  0.04],\n",
       "       [ 0.04,  2.04]])"
      ]
     },
     "execution_count": 31,
     "metadata": {},
     "output_type": "execute_result"
    }
   ],
   "source": [
    "g_ba @ M_a @ g_ba.T"
   ]
  },
  {
   "cell_type": "code",
   "execution_count": 32,
   "metadata": {},
   "outputs": [
    {
     "data": {
      "text/plain": [
       "array([[6.02, 0.02],\n",
       "       [0.02, 1.02]])"
      ]
     },
     "execution_count": 32,
     "metadata": {},
     "output_type": "execute_result"
    }
   ],
   "source": [
    "g_ba @ M_a @ np.linalg.pinv(g_ba)"
   ]
  },
  {
   "cell_type": "code",
   "execution_count": null,
   "metadata": {},
   "outputs": [],
   "source": []
  },
  {
   "cell_type": "markdown",
   "metadata": {},
   "source": [
    "## Two Similar Matrices"
   ]
  },
  {
   "cell_type": "code",
   "execution_count": 33,
   "metadata": {},
   "outputs": [
    {
     "data": {
      "text/plain": [
       "array([[8.01, 0.01, 0.01, 0.01],\n",
       "       [0.01, 4.01, 0.01, 0.01],\n",
       "       [0.01, 0.01, 1.01, 0.01],\n",
       "       [0.01, 0.01, 0.01, 1.01]])"
      ]
     },
     "execution_count": 33,
     "metadata": {},
     "output_type": "execute_result"
    }
   ],
   "source": [
    "M_a"
   ]
  },
  {
   "cell_type": "code",
   "execution_count": 34,
   "metadata": {},
   "outputs": [
    {
     "data": {
      "text/plain": [
       "array([[1., 1., 0., 0.],\n",
       "       [0., 0., 1., 1.]])"
      ]
     },
     "execution_count": 34,
     "metadata": {},
     "output_type": "execute_result"
    }
   ],
   "source": [
    "g_ba"
   ]
  },
  {
   "cell_type": "code",
   "execution_count": 35,
   "metadata": {},
   "outputs": [
    {
     "data": {
      "text/plain": [
       "array([[8.010025, 0.02    ],\n",
       "       [0.02    , 1.02    ]])"
      ]
     },
     "execution_count": 35,
     "metadata": {},
     "output_type": "execute_result"
    }
   ],
   "source": [
    "M_b = projector.sub_matrix_eigenvector(M_a, g_ba)\n",
    "M_b"
   ]
  },
  {
   "cell_type": "code",
   "execution_count": 36,
   "metadata": {},
   "outputs": [
    {
     "data": {
      "text/plain": [
       "array([[8.01, 0.1 , 0.01, 0.01],\n",
       "       [0.1 , 4.01, 0.01, 0.05],\n",
       "       [0.01, 0.01, 1.01, 0.1 ],\n",
       "       [0.01, 0.05, 0.1 , 1.01]])"
      ]
     },
     "execution_count": 36,
     "metadata": {},
     "output_type": "execute_result"
    }
   ],
   "source": [
    "M_a[0, 1] = M_a[1, 0] = 0.1\n",
    "M_a[2, 3] = M_a[3, 2] = 0.1\n",
    "M_a[1, 3] = M_a[3, 1] = 0.05\n",
    "M_a"
   ]
  },
  {
   "cell_type": "code",
   "execution_count": 37,
   "metadata": {},
   "outputs": [
    {
     "data": {
      "text/plain": [
       "array([[8.01249844, 0.04      ],\n",
       "       [0.02097502, 1.11      ]])"
      ]
     },
     "execution_count": 37,
     "metadata": {},
     "output_type": "execute_result"
    }
   ],
   "source": [
    "M_b = projector.sub_matrix_eigenvector(M_a, g_ba)\n",
    "M_b"
   ]
  },
  {
   "cell_type": "code",
   "execution_count": null,
   "metadata": {},
   "outputs": [],
   "source": []
  }
 ],
 "metadata": {
  "kernelspec": {
   "display_name": "Python 3",
   "language": "python",
   "name": "python3"
  },
  "language_info": {
   "codemirror_mode": {
    "name": "ipython",
    "version": 3
   },
   "file_extension": ".py",
   "mimetype": "text/x-python",
   "name": "python",
   "nbconvert_exporter": "python",
   "pygments_lexer": "ipython3",
   "version": "3.8.2"
  }
 },
 "nbformat": 4,
 "nbformat_minor": 4
}
