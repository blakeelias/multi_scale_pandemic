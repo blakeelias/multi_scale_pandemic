{
 "cells": [
  {
   "cell_type": "code",
   "execution_count": 1,
   "metadata": {},
   "outputs": [],
   "source": [
    "import numpy as np\n",
    "import pandas as pd"
   ]
  },
  {
   "cell_type": "markdown",
   "metadata": {},
   "source": [
    "## Define Matrices"
   ]
  },
  {
   "cell_type": "markdown",
   "metadata": {},
   "source": [
    "## M_a"
   ]
  },
  {
   "cell_type": "code",
   "execution_count": 2,
   "metadata": {},
   "outputs": [
    {
     "data": {
      "text/plain": [
       "array([[8.01, 0.01, 0.01, 0.01],\n",
       "       [0.01, 4.01, 0.01, 0.01],\n",
       "       [0.01, 0.01, 1.01, 0.01],\n",
       "       [0.01, 0.01, 0.01, 1.01]])"
      ]
     },
     "execution_count": 2,
     "metadata": {},
     "output_type": "execute_result"
    }
   ],
   "source": [
    "M_a = np.ones((4, 4)) * 0.01 + np.diag([8, 4, 1, 1])\n",
    "M_a.round(decimals=3)"
   ]
  },
  {
   "cell_type": "markdown",
   "metadata": {},
   "source": [
    "## M_b"
   ]
  },
  {
   "cell_type": "code",
   "execution_count": 3,
   "metadata": {},
   "outputs": [],
   "source": [
    "g_ba = np.array([\n",
    "    [1., 0, 1, 0],\n",
    "    [0, 1, 0, 1]\n",
    "])"
   ]
  },
  {
   "cell_type": "code",
   "execution_count": 4,
   "metadata": {},
   "outputs": [
    {
     "data": {
      "text/plain": [
       "(array([8.01005376, 1.01990469, 4.01004155, 1.        ]),\n",
       " array([[ 1.   ,  0.002, -0.003, -0.   ],\n",
       "        [ 0.003,  0.005,  1.   ,  0.   ],\n",
       "        [ 0.001, -0.707,  0.003, -0.707],\n",
       "        [ 0.001, -0.707,  0.003,  0.707]]))"
      ]
     },
     "execution_count": 4,
     "metadata": {},
     "output_type": "execute_result"
    }
   ],
   "source": [
    "Lambda_col_a, V_a = np.linalg.eig(M_a)\n",
    "Lambda_col_a, V_a.round(decimals=3)"
   ]
  },
  {
   "cell_type": "code",
   "execution_count": 5,
   "metadata": {},
   "outputs": [
    {
     "data": {
      "text/plain": [
       "(array([8.01005376, 4.01004155]),\n",
       " array([[ 1.   , -0.003],\n",
       "        [ 0.003,  1.   ],\n",
       "        [ 0.001,  0.003],\n",
       "        [ 0.001,  0.003]]))"
      ]
     },
     "execution_count": 5,
     "metadata": {},
     "output_type": "execute_result"
    }
   ],
   "source": [
    "n_b, n_a = g_ba.shape\n",
    "\n",
    "idx = Lambda_col_a.argsort()[-n_b:][::-1]   # -n_b\n",
    "Lambda_col_a_top_b = Lambda_col_a[idx]  # top 1 eigenvector... # n_b eigenvalues\n",
    "V_a_top_b = V_a[:,idx]           # corresponding eigenvectors\n",
    "\n",
    "Lambda_col_a_top_b, V_a_top_b.round(decimals=3)"
   ]
  },
  {
   "cell_type": "code",
   "execution_count": 6,
   "metadata": {},
   "outputs": [
    {
     "data": {
      "text/plain": [
       "array([[1.001e+00, 1.000e-03],\n",
       "       [4.000e-03, 1.003e+00]])"
      ]
     },
     "execution_count": 6,
     "metadata": {},
     "output_type": "execute_result"
    }
   ],
   "source": [
    "(g_ba @ V_a_top_b).round(decimals=3)"
   ]
  },
  {
   "cell_type": "code",
   "execution_count": 7,
   "metadata": {},
   "outputs": [
    {
     "data": {
      "text/plain": [
       "array([[ 0.999, -0.001],\n",
       "       [-0.004,  0.997]])"
      ]
     },
     "execution_count": 7,
     "metadata": {},
     "output_type": "execute_result"
    }
   ],
   "source": [
    "np.linalg.inv(g_ba @ V_a_top_b).round(decimals=3)"
   ]
  },
  {
   "cell_type": "markdown",
   "metadata": {},
   "source": [
    "### Finally, M_b:"
   ]
  },
  {
   "cell_type": "code",
   "execution_count": 8,
   "metadata": {},
   "outputs": [
    {
     "data": {
      "text/plain": [
       "array([[ 8.01e+00, -3.00e-03],\n",
       "       [ 1.60e-02,  4.01e+00]])"
      ]
     },
     "execution_count": 8,
     "metadata": {},
     "output_type": "execute_result"
    }
   ],
   "source": [
    "M_b = g_ba @ M_a @ V_a_top_b @ np.linalg.inv(g_ba @ V_a_top_b)\n",
    "M_b.round(decimals=3)"
   ]
  },
  {
   "cell_type": "code",
   "execution_count": 30,
   "metadata": {},
   "outputs": [
    {
     "data": {
      "text/plain": [
       "array([[513.56717616],\n",
       "       [ 66.25065799]])"
      ]
     },
     "execution_count": 30,
     "metadata": {},
     "output_type": "execute_result"
    }
   ],
   "source": [
    "M_b @ M_b @ M_b @ np.array([[1, 1.]]).T"
   ]
  },
  {
   "cell_type": "markdown",
   "metadata": {},
   "source": [
    "## M_c"
   ]
  },
  {
   "cell_type": "code",
   "execution_count": 9,
   "metadata": {},
   "outputs": [],
   "source": [
    "g_cb = np.array([\n",
    "    [1., 1.],\n",
    "])"
   ]
  },
  {
   "cell_type": "code",
   "execution_count": 10,
   "metadata": {},
   "outputs": [
    {
     "data": {
      "text/plain": [
       "(array([8.01005376, 4.01004155]),\n",
       " array([[1.   , 0.001],\n",
       "        [0.004, 1.   ]]))"
      ]
     },
     "execution_count": 10,
     "metadata": {},
     "output_type": "execute_result"
    }
   ],
   "source": [
    "Lambda_col_b, V_b = np.linalg.eig(M_b)\n",
    "Lambda_col_b, V_b.round(decimals=3)"
   ]
  },
  {
   "cell_type": "code",
   "execution_count": 11,
   "metadata": {},
   "outputs": [
    {
     "data": {
      "text/plain": [
       "(array([8.01005376]),\n",
       " array([[1.   ],\n",
       "        [0.004]]))"
      ]
     },
     "execution_count": 11,
     "metadata": {},
     "output_type": "execute_result"
    }
   ],
   "source": [
    "n_c, n_b = g_cb.shape\n",
    "\n",
    "idx = Lambda_col_b.argsort()[-n_c:][::-1]\n",
    "Lambda_col_b_top_c = Lambda_col_b[idx]  # top n_b eigenvalues\n",
    "V_b_top_c = V_b[:,idx]           # corresponding eigenvectors\n",
    "\n",
    "Lambda_col_b_top_c, V_b_top_c.round(decimals=3)"
   ]
  },
  {
   "cell_type": "code",
   "execution_count": 12,
   "metadata": {},
   "outputs": [
    {
     "data": {
      "text/plain": [
       "array([[1.004]])"
      ]
     },
     "execution_count": 12,
     "metadata": {},
     "output_type": "execute_result"
    }
   ],
   "source": [
    "(g_cb @ V_b_top_c).round(decimals=3)"
   ]
  },
  {
   "cell_type": "code",
   "execution_count": 13,
   "metadata": {},
   "outputs": [
    {
     "data": {
      "text/plain": [
       "array([[0.996]])"
      ]
     },
     "execution_count": 13,
     "metadata": {},
     "output_type": "execute_result"
    }
   ],
   "source": [
    "np.linalg.inv(g_cb @ V_b_top_c).round(decimals=3)"
   ]
  },
  {
   "cell_type": "markdown",
   "metadata": {},
   "source": [
    "## Finally, M_c"
   ]
  },
  {
   "cell_type": "code",
   "execution_count": 14,
   "metadata": {},
   "outputs": [
    {
     "data": {
      "text/plain": [
       "array([[8.01]])"
      ]
     },
     "execution_count": 14,
     "metadata": {},
     "output_type": "execute_result"
    }
   ],
   "source": [
    "M_c = g_cb @ M_b @ V_b_top_c @ np.linalg.inv(g_cb @ V_b_top_c)\n",
    "M_c.round(decimals=3)"
   ]
  },
  {
   "cell_type": "markdown",
   "metadata": {},
   "source": [
    "# Evolving in time"
   ]
  },
  {
   "cell_type": "markdown",
   "metadata": {},
   "source": [
    "## Initial Conditions"
   ]
  },
  {
   "cell_type": "code",
   "execution_count": 43,
   "metadata": {},
   "outputs": [
    {
     "data": {
      "text/plain": [
       "array([[1.],\n",
       "       [0.],\n",
       "       [1.],\n",
       "       [0.]])"
      ]
     },
     "execution_count": 43,
     "metadata": {},
     "output_type": "execute_result"
    }
   ],
   "source": [
    "N_a_0 = np.array([[1., 0., 1., 0.]]).T\n",
    "N_a_0"
   ]
  },
  {
   "cell_type": "code",
   "execution_count": 44,
   "metadata": {},
   "outputs": [
    {
     "data": {
      "text/plain": [
       "array([[2.],\n",
       "       [0.]])"
      ]
     },
     "execution_count": 44,
     "metadata": {},
     "output_type": "execute_result"
    }
   ],
   "source": [
    "N_b_0 = g_ba @ N_a_0\n",
    "N_b_0"
   ]
  },
  {
   "cell_type": "code",
   "execution_count": 45,
   "metadata": {},
   "outputs": [
    {
     "data": {
      "text/plain": [
       "array([[2.]])"
      ]
     },
     "execution_count": 45,
     "metadata": {},
     "output_type": "execute_result"
    }
   ],
   "source": [
    "N_c_0 = g_cb @ N_b_0\n",
    "N_c_0"
   ]
  },
  {
   "cell_type": "markdown",
   "metadata": {},
   "source": [
    "## Time Series N_a"
   ]
  },
  {
   "cell_type": "code",
   "execution_count": 46,
   "metadata": {},
   "outputs": [
    {
     "data": {
      "text/plain": [
       "[array([[1.],\n",
       "        [0.],\n",
       "        [1.],\n",
       "        [0.]]),\n",
       " array([[8.02],\n",
       "        [0.02],\n",
       "        [1.02],\n",
       "        [0.02]]),\n",
       " array([[64.251],\n",
       "        [ 0.171],\n",
       "        [ 1.111],\n",
       "        [ 0.111]]),\n",
       " array([[514.663],\n",
       "        [  1.34 ],\n",
       "        [  1.767],\n",
       "        [  0.767]]),\n",
       " array([[4122.488],\n",
       "        [  10.544],\n",
       "        [   6.953],\n",
       "        [   5.953]]),\n",
       " array([[33021.364],\n",
       "        [   83.635],\n",
       "        [   48.412],\n",
       "        [   47.412]]),\n",
       " array([[264502.917],\n",
       "        [   666.548],\n",
       "        [   380.42 ],\n",
       "        [   379.42 ]]),\n",
       " array([[2118682.628],\n",
       "        [   5325.485],\n",
       "        [   3039.713],\n",
       "        [   3038.713]]),\n",
       " array([[16970761.886],\n",
       "        [   42602.807],\n",
       "        [   24340.579],\n",
       "        [   24339.579]]),\n",
       " array([[1.35936716e+08],\n",
       "        [3.41031675e+05],\n",
       "        [1.94961027e+05],\n",
       "        [1.94960027e+05]])]"
      ]
     },
     "execution_count": 46,
     "metadata": {},
     "output_type": "execute_result"
    }
   ],
   "source": [
    "N_a_t = [(np.linalg.matrix_power(M_a, t) @ N_a_0).round(decimals=3) for t in range(10)]\n",
    "N_a_t\n",
    "\n",
    "\n",
    "# What best subspace to choose?\n",
    "\n",
    "# Strictly required:\n",
    "# Additional restriction on V such that always get positive entries of M_b\n",
    "# Only allocate cases from a coarse-grained region into the fine grained regions that it includes\n",
    "# (i.e. N^b = g_ba N^a)\n",
    "# g_ba^{-1} should start with g_ba.T, only gets to modify entries that have 1's in them, have each column sum to 1.\n",
    "\n",
    "# Desired:\n",
    "# So long-term trajectory stays the same.\n",
    "# Don't stray too far... How far off will we be?\n",
    "\n",
    "# Questions:\n",
    "# Does 2nd largest eigenvalue need to be here? [Can't be there exactly...]\n",
    "\n",
    "# Ideas:\n",
    "# Split cases only using top 1 eigenvector\n",
    "# Split cases using 2x2 sub-matrices within the coarse-grained region"
   ]
  },
  {
   "cell_type": "markdown",
   "metadata": {},
   "source": [
    "## Time Series N_b"
   ]
  },
  {
   "cell_type": "code",
   "execution_count": 47,
   "metadata": {},
   "outputs": [
    {
     "data": {
      "text/plain": [
       "[array([[2.],\n",
       "        [0.]]),\n",
       " array([[9.04],\n",
       "        [0.04]]),\n",
       " array([[65.362],\n",
       "        [ 0.282]]),\n",
       " array([[516.43 ],\n",
       "        [  2.107]]),\n",
       " array([[4129.441],\n",
       "        [  16.496]]),\n",
       " array([[33069.776],\n",
       "        [  131.047]]),\n",
       " array([[264883.337],\n",
       "        [  1045.968]]),\n",
       " array([[2121722.341],\n",
       "        [   8364.199]]),\n",
       " array([[16995102.464],\n",
       "        [   66942.385]]),\n",
       " array([[1.36131677e+08],\n",
       "        [5.35991702e+05]])]"
      ]
     },
     "execution_count": 47,
     "metadata": {},
     "output_type": "execute_result"
    }
   ],
   "source": [
    "N_b_t = [(g_ba @ np.linalg.matrix_power(M_a, t) @ N_a_0).round(decimals=3) for t in range(10)]\n",
    "N_b_t"
   ]
  },
  {
   "cell_type": "markdown",
   "metadata": {},
   "source": [
    "## Time Series N_c"
   ]
  },
  {
   "cell_type": "code",
   "execution_count": 48,
   "metadata": {},
   "outputs": [
    {
     "data": {
      "text/plain": [
       "[array([[2.]]),\n",
       " array([[9.08]]),\n",
       " array([[65.643]]),\n",
       " array([[518.537]]),\n",
       " array([[4145.937]]),\n",
       " array([[33200.822]]),\n",
       " array([[265929.305]]),\n",
       " array([[2130086.539]]),\n",
       " array([[17062044.85]]),\n",
       " array([[1.36667668e+08]])]"
      ]
     },
     "execution_count": 48,
     "metadata": {},
     "output_type": "execute_result"
    }
   ],
   "source": [
    "N_c_t = [(g_cb @ g_ba @ np.linalg.matrix_power(M_a, t) @ N_a_0).round(decimals=3) for t in range(10)]\n",
    "N_c_t"
   ]
  },
  {
   "cell_type": "markdown",
   "metadata": {},
   "source": [
    "## Time Series N_b_hat"
   ]
  },
  {
   "cell_type": "code",
   "execution_count": 49,
   "metadata": {},
   "outputs": [
    {
     "data": {
      "text/plain": [
       "[array([[2.],\n",
       "        [0.]]),\n",
       " array([[16.02 ],\n",
       "        [ 0.031]]),\n",
       " array([[128.322],\n",
       "        [  0.378]]),\n",
       " array([[1027.868],\n",
       "        [   3.538]]),\n",
       " array([[8233.283],\n",
       "        [  30.368]]),\n",
       " array([[65949.043],\n",
       "        [  251.393]]),\n",
       " array([[528255.41 ],\n",
       "        [  2046.316]]),\n",
       " array([[4231354.335],\n",
       "        [  16522.024]]),\n",
       " array([[33893376.109],\n",
       "        [  132867.296]]),\n",
       " array([[2.71487766e+08],\n",
       "        [1.06637943e+06]])]"
      ]
     },
     "execution_count": 49,
     "metadata": {},
     "output_type": "execute_result"
    }
   ],
   "source": [
    "N_b_hat_t = [(np.linalg.matrix_power(M_b, t) @ N_b_0).round(decimals=3) for t in range(10)]\n",
    "N_b_hat_t"
   ]
  },
  {
   "cell_type": "markdown",
   "metadata": {},
   "source": [
    "## Time Series N_c_hat"
   ]
  },
  {
   "cell_type": "code",
   "execution_count": 38,
   "metadata": {},
   "outputs": [
    {
     "data": {
      "text/plain": [
       "[array([[2.]]),\n",
       " array([[16.02]]),\n",
       " array([[128.322]]),\n",
       " array([[1027.865]]),\n",
       " array([[8233.258]]),\n",
       " array([[65948.838]]),\n",
       " array([[528253.739]]),\n",
       " array([[4231340.843]]),\n",
       " array([[33893267.612]]),\n",
       " array([[2.71486896e+08]])]"
      ]
     },
     "execution_count": 38,
     "metadata": {},
     "output_type": "execute_result"
    }
   ],
   "source": [
    "N_c_hat_t = [(np.linalg.matrix_power(M_c, t) @ N_c_0).round(decimals=3) for t in range(10)]\n",
    "N_c_hat_t"
   ]
  },
  {
   "cell_type": "markdown",
   "metadata": {},
   "source": [
    "## An alternate M_b construction"
   ]
  },
  {
   "cell_type": "code",
   "execution_count": 39,
   "metadata": {},
   "outputs": [
    {
     "data": {
      "text/plain": [
       "array([[8.01, 0.01, 0.01, 0.01],\n",
       "       [0.01, 4.01, 0.01, 0.01],\n",
       "       [0.01, 0.01, 1.01, 0.01],\n",
       "       [0.01, 0.01, 0.01, 1.01]])"
      ]
     },
     "execution_count": 39,
     "metadata": {},
     "output_type": "execute_result"
    }
   ],
   "source": [
    "M_a"
   ]
  },
  {
   "cell_type": "code",
   "execution_count": 40,
   "metadata": {},
   "outputs": [
    {
     "data": {
      "text/plain": [
       "array([[1., 0., 1., 0.],\n",
       "       [0., 1., 0., 1.]])"
      ]
     },
     "execution_count": 40,
     "metadata": {},
     "output_type": "execute_result"
    }
   ],
   "source": [
    "g_ba"
   ]
  },
  {
   "cell_type": "code",
   "execution_count": 41,
   "metadata": {},
   "outputs": [
    {
     "data": {
      "text/plain": [
       "array([[9.04, 0.04],\n",
       "       [0.04, 5.04]])"
      ]
     },
     "execution_count": 41,
     "metadata": {},
     "output_type": "execute_result"
    }
   ],
   "source": [
    "g_ba @ M_a @ g_ba.T"
   ]
  },
  {
   "cell_type": "code",
   "execution_count": 42,
   "metadata": {},
   "outputs": [
    {
     "data": {
      "text/plain": [
       "array([[4.52, 0.02],\n",
       "       [0.02, 2.52]])"
      ]
     },
     "execution_count": 42,
     "metadata": {},
     "output_type": "execute_result"
    }
   ],
   "source": [
    "g_ba @ M_a @ np.linalg.pinv(g_ba)"
   ]
  },
  {
   "cell_type": "code",
   "execution_count": null,
   "metadata": {},
   "outputs": [],
   "source": []
  },
  {
   "cell_type": "code",
   "execution_count": null,
   "metadata": {},
   "outputs": [],
   "source": []
  },
  {
   "cell_type": "code",
   "execution_count": null,
   "metadata": {},
   "outputs": [],
   "source": []
  }
 ],
 "metadata": {
  "kernelspec": {
   "display_name": "Python 3",
   "language": "python",
   "name": "python3"
  },
  "language_info": {
   "codemirror_mode": {
    "name": "ipython",
    "version": 3
   },
   "file_extension": ".py",
   "mimetype": "text/x-python",
   "name": "python",
   "nbconvert_exporter": "python",
   "pygments_lexer": "ipython3",
   "version": "3.8.2"
  }
 },
 "nbformat": 4,
 "nbformat_minor": 4
}
