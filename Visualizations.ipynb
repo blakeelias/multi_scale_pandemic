{
 "cells": [
  {
   "cell_type": "code",
   "execution_count": 1,
   "metadata": {},
   "outputs": [],
   "source": [
    "%matplotlib inline"
   ]
  },
  {
   "cell_type": "code",
   "execution_count": 2,
   "metadata": {},
   "outputs": [],
   "source": [
    "import numpy as np\n",
    "import pandas as pd\n",
    "import matplotlib.pyplot as plt\n",
    "import matplotlib.gridspec as gridspec\n",
    "from matplotlib.animation import FuncAnimation\n",
    "from matplotlib import animation, rc\n",
    "from IPython.display import HTML"
   ]
  },
  {
   "cell_type": "code",
   "execution_count": 3,
   "metadata": {},
   "outputs": [],
   "source": [
    "import visualize\n",
    "import world_generator\n",
    "import evaluation\n",
    "import projections"
   ]
  },
  {
   "cell_type": "code",
   "execution_count": 4,
   "metadata": {},
   "outputs": [],
   "source": [
    "# enable animations to render inline.\n",
    "# requires ffmpeg to be installed (`sudo apt install ffmpeg`)\n",
    "rc('animation', html='html5')"
   ]
  },
  {
   "cell_type": "code",
   "execution_count": 5,
   "metadata": {},
   "outputs": [
    {
     "data": {
      "text/plain": [
       "(array([0., 0., 0., 0., 0., 0., 0., 0., 0., 0., 0., 0., 0., 0., 0., 0., 0.,\n",
       "        0., 0., 0., 0., 0., 0., 0., 0., 0., 0., 0., 0., 0., 0., 0., 0., 0.,\n",
       "        0., 0., 0., 0., 0., 0., 0., 0., 0., 0., 0., 0., 0., 0., 0., 0., 0.,\n",
       "        0., 0., 0., 0., 0., 0., 0., 0., 0., 0., 0., 0., 0., 0., 0., 0., 0.,\n",
       "        0., 0., 0., 0., 0., 0., 0., 0., 0., 0., 0., 0., 0., 0., 0., 0., 0.,\n",
       "        0., 0., 0., 0., 0., 0., 0., 0., 0., 0., 0., 0., 0., 0., 0., 0., 0.,\n",
       "        0., 0., 0., 0., 0., 0., 0., 0., 0., 0., 0., 0., 0., 0., 0., 0., 0.,\n",
       "        0., 0., 0., 0., 0., 0., 0., 0., 0., 0., 0., 0., 0., 0., 0., 0., 0.,\n",
       "        1., 0., 0., 0., 0., 0., 0., 0., 0., 0., 0., 0., 0., 0., 0., 0., 0.,\n",
       "        0., 0., 0., 0., 0., 0., 0., 0., 0., 0., 0., 0., 0., 0., 0., 0., 0.,\n",
       "        0., 0., 0., 0., 0., 0., 0., 0., 0., 0., 0., 0., 0., 0., 0., 0., 0.,\n",
       "        0., 0., 0., 0., 0., 0., 0., 0., 0., 0., 0., 0., 0., 0., 0., 0., 0.,\n",
       "        0., 0., 0., 0., 0., 0., 0., 0., 0., 0., 0., 0., 0., 0., 0., 0., 0.,\n",
       "        0., 0., 0., 0., 0., 0., 0., 0., 0., 0., 0., 0., 0., 0., 0., 0., 0.,\n",
       "        0., 0., 0., 0., 0., 0., 0., 0., 0., 0., 0., 0., 0., 0., 0., 0., 0.,\n",
       "        0.]),\n",
       " array([[2. , 0.2, 0. , ..., 0. , 0. , 0. ],\n",
       "        [0.2, 2. , 0.2, ..., 0. , 0. , 0. ],\n",
       "        [0. , 0.2, 2. , ..., 0. , 0. , 0. ],\n",
       "        ...,\n",
       "        [0. , 0. , 0. , ..., 2. , 0.2, 0. ],\n",
       "        [0. , 0. , 0. , ..., 0.2, 2. , 0.2],\n",
       "        [0. , 0. , 0. , ..., 0. , 0.2, 2. ]]),\n",
       " array([[1., 1., 0., ..., 0., 0., 0.],\n",
       "        [0., 0., 1., ..., 0., 0., 0.],\n",
       "        [0., 0., 0., ..., 0., 0., 0.],\n",
       "        ...,\n",
       "        [0., 0., 0., ..., 0., 0., 0.],\n",
       "        [0., 0., 0., ..., 1., 0., 0.],\n",
       "        [0., 0., 0., ..., 0., 1., 1.]]))"
      ]
     },
     "execution_count": 5,
     "metadata": {},
     "output_type": "execute_result"
    }
   ],
   "source": [
    "N_a, M_a, g_ba = world_generator.generate_world(num_regions=256, spread_rate=0.2, self_spread_rate=2.0)\n",
    "N_a, M_a, g_ba"
   ]
  },
  {
   "cell_type": "code",
   "execution_count": 6,
   "metadata": {},
   "outputs": [
    {
     "data": {
      "text/plain": [
       "((256,), (256, 256), (64, 256))"
      ]
     },
     "execution_count": 6,
     "metadata": {},
     "output_type": "execute_result"
    }
   ],
   "source": [
    "N_a.shape, M_a.shape, g_ba.shape"
   ]
  },
  {
   "cell_type": "code",
   "execution_count": 7,
   "metadata": {},
   "outputs": [],
   "source": [
    "results = evaluation.evaluate(M_a, projection_method=projections.Projections().sub_matrix_eigenvector, g_bas=[g_ba], N_a_0=N_a, num_steps=200, intervention_strategy=False)"
   ]
  },
  {
   "cell_type": "code",
   "execution_count": 8,
   "metadata": {},
   "outputs": [],
   "source": [
    "#for t, N_a_t in enumerate(results['N_a']):\n",
    "#    grid_N_a_t = visualize.as_grid(N_a_t)\n",
    "#    visualize.plot_grid(grid_N_a_t, grid_N_a_t)"
   ]
  },
  {
   "cell_type": "code",
   "execution_count": 9,
   "metadata": {},
   "outputs": [],
   "source": [
    "#for t, N_b_t in enumerate(results['N_bs'][1]):\n",
    "#    grid_N_b_t = visualize.as_grid(N_b_t)\n",
    "#    visualize.plot_grid(grid_N_b_t, grid_N_a_t)"
   ]
  },
  {
   "cell_type": "code",
   "execution_count": 10,
   "metadata": {},
   "outputs": [],
   "source": [
    "results = evaluation.evaluate(M_a, projection_method=projections.Projections().sub_matrix_eigenvector, g_bas=[g_ba], N_a_0=N_a, num_steps=10,  lock_down_threshold=10, re_open_threshold=0.5, intervention_strategy=True)"
   ]
  },
  {
   "cell_type": "code",
   "execution_count": 11,
   "metadata": {},
   "outputs": [],
   "source": [
    "#for t, N_a_t in enumerate(results['N_a']):\n",
    "#    grid_N_a_t = visualize.as_grid(N_a_t)\n",
    "#    visualize.plot_grid(grid_N_a_t, grid_N_a_t)"
   ]
  },
  {
   "cell_type": "code",
   "execution_count": 12,
   "metadata": {},
   "outputs": [],
   "source": [
    "#for t, N_b_t in enumerate(results['N_bs'][1]):\n",
    "#    grid_N_b_t = visualize.as_grid(N_b_t)\n",
    "#    visualize.plot_grid(grid_N_b_t, grid_N_a_t)"
   ]
  },
  {
   "cell_type": "code",
   "execution_count": null,
   "metadata": {},
   "outputs": [],
   "source": [
    "grid_N_bs = [visualize.as_grid(N_b_t) for N_b_t in results['N_bs'][1]]\n",
    "grid_N_a_t = visualize.as_grid(results['N_a'][0])\n",
    "anim = visualize.animate_grids(grid_N_bs, grid_N_a_t)\n",
    "anim"
   ]
  },
  {
   "cell_type": "code",
   "execution_count": null,
   "metadata": {},
   "outputs": [],
   "source": [
    "#M_b_0 # M_a   --> element-wise multiply entries {(i, j)} by \\delta M_b  < 1 as a function of N_a\n",
    "#M_b_1 #        --> \n",
    "#...\n",
    "#M_b_n"
   ]
  },
  {
   "cell_type": "markdown",
   "metadata": {},
   "source": [
    "# Dummy Animation"
   ]
  },
  {
   "cell_type": "code",
   "execution_count": null,
   "metadata": {},
   "outputs": [],
   "source": [
    "anim = visualize.dummy_animate()\n",
    "anim"
   ]
  },
  {
   "cell_type": "code",
   "execution_count": null,
   "metadata": {},
   "outputs": [],
   "source": []
  }
 ],
 "metadata": {
  "kernelspec": {
   "display_name": "Python 3",
   "language": "python",
   "name": "python3"
  },
  "language_info": {
   "codemirror_mode": {
    "name": "ipython",
    "version": 3
   },
   "file_extension": ".py",
   "mimetype": "text/x-python",
   "name": "python",
   "nbconvert_exporter": "python",
   "pygments_lexer": "ipython3",
   "version": "3.8.2"
  }
 },
 "nbformat": 4,
 "nbformat_minor": 4
}
