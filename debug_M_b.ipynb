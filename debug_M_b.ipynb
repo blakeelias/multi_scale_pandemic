{
 "cells": [
  {
   "cell_type": "code",
   "execution_count": 1,
   "metadata": {},
   "outputs": [],
   "source": [
    "%matplotlib inline"
   ]
  },
  {
   "cell_type": "code",
   "execution_count": 2,
   "metadata": {},
   "outputs": [],
   "source": [
    "import numpy as np\n",
    "import pandas as pd\n",
    "import matplotlib.pyplot as plt\n",
    "import matplotlib.gridspec as gridspec\n",
    "from matplotlib.animation import FuncAnimation\n",
    "from matplotlib import animation, rc\n",
    "from IPython.display import HTML"
   ]
  },
  {
   "cell_type": "code",
   "execution_count": 3,
   "metadata": {},
   "outputs": [],
   "source": [
    "import visualize\n",
    "import world_generator\n",
    "import evaluation\n",
    "import projections"
   ]
  },
  {
   "cell_type": "code",
   "execution_count": 4,
   "metadata": {},
   "outputs": [],
   "source": [
    "# enable animations to render inline.\n",
    "# requires ffmpeg to be installed (`sudo apt install ffmpeg`)\n",
    "rc('animation', html='html5')"
   ]
  },
  {
   "cell_type": "code",
   "execution_count": 5,
   "metadata": {},
   "outputs": [],
   "source": [
    "N_a, M_a, g_bas = world_generator.generate_world(num_regions=16, spread_rate=0.2, self_spread_rate=2.0)\n",
    "# N_a, M_a, g_ba"
   ]
  },
  {
   "cell_type": "code",
   "execution_count": 6,
   "metadata": {},
   "outputs": [
    {
     "data": {
      "text/plain": [
       "((16,), (16, 16), [(4, 16), (1, 4)])"
      ]
     },
     "execution_count": 6,
     "metadata": {},
     "output_type": "execute_result"
    }
   ],
   "source": [
    "N_a.shape, M_a.shape, [g_ba.shape for g_ba in g_bas]"
   ]
  },
  {
   "cell_type": "markdown",
   "metadata": {},
   "source": [
    "# No Lock-Down"
   ]
  },
  {
   "cell_type": "code",
   "execution_count": 7,
   "metadata": {},
   "outputs": [],
   "source": [
    "results = evaluation.evaluate(\n",
    "    M_a,\n",
    "    projection_method=projections.Projections().sub_matrix_eigenvector,\n",
    "    g_bas=g_bas,\n",
    "    N_a_0=N_a,\n",
    "    num_steps=20,\n",
    "    intervention_strategy=False)"
   ]
  },
  {
   "cell_type": "code",
   "execution_count": 8,
   "metadata": {},
   "outputs": [
    {
     "data": {
      "text/plain": [
       "[array([[2. , 0.2, 0. , 0. , 0.2, 0.2, 0. , 0. , 0. , 0. , 0. , 0. , 0. ,\n",
       "         0. , 0. , 0. ],\n",
       "        [0.2, 2. , 0.2, 0. , 0.2, 0.2, 0.2, 0. , 0. , 0. , 0. , 0. , 0. ,\n",
       "         0. , 0. , 0. ],\n",
       "        [0. , 0.2, 2. , 0.2, 0. , 0.2, 0.2, 0.2, 0. , 0. , 0. , 0. , 0. ,\n",
       "         0. , 0. , 0. ],\n",
       "        [0. , 0. , 0.2, 2. , 0. , 0. , 0.2, 0.2, 0. , 0. , 0. , 0. , 0. ,\n",
       "         0. , 0. , 0. ],\n",
       "        [0.2, 0.2, 0. , 0. , 2. , 0.2, 0. , 0. , 0.2, 0.2, 0. , 0. , 0. ,\n",
       "         0. , 0. , 0. ],\n",
       "        [0.2, 0.2, 0.2, 0. , 0.2, 2. , 0.2, 0. , 0.2, 0.2, 0.2, 0. , 0. ,\n",
       "         0. , 0. , 0. ],\n",
       "        [0. , 0.2, 0.2, 0.2, 0. , 0.2, 2. , 0.2, 0. , 0.2, 0.2, 0.2, 0. ,\n",
       "         0. , 0. , 0. ],\n",
       "        [0. , 0. , 0.2, 0.2, 0. , 0. , 0.2, 2. , 0. , 0. , 0.2, 0.2, 0. ,\n",
       "         0. , 0. , 0. ],\n",
       "        [0. , 0. , 0. , 0. , 0.2, 0.2, 0. , 0. , 2. , 0.2, 0. , 0. , 0.2,\n",
       "         0.2, 0. , 0. ],\n",
       "        [0. , 0. , 0. , 0. , 0.2, 0.2, 0.2, 0. , 0.2, 2. , 0.2, 0. , 0.2,\n",
       "         0.2, 0.2, 0. ],\n",
       "        [0. , 0. , 0. , 0. , 0. , 0.2, 0.2, 0.2, 0. , 0.2, 2. , 0.2, 0. ,\n",
       "         0.2, 0.2, 0.2],\n",
       "        [0. , 0. , 0. , 0. , 0. , 0. , 0.2, 0.2, 0. , 0. , 0.2, 2. , 0. ,\n",
       "         0. , 0.2, 0.2],\n",
       "        [0. , 0. , 0. , 0. , 0. , 0. , 0. , 0. , 0.2, 0.2, 0. , 0. , 2. ,\n",
       "         0.2, 0. , 0. ],\n",
       "        [0. , 0. , 0. , 0. , 0. , 0. , 0. , 0. , 0.2, 0.2, 0.2, 0. , 0.2,\n",
       "         2. , 0.2, 0. ],\n",
       "        [0. , 0. , 0. , 0. , 0. , 0. , 0. , 0. , 0. , 0.2, 0.2, 0.2, 0. ,\n",
       "         0.2, 2. , 0.2],\n",
       "        [0. , 0. , 0. , 0. , 0. , 0. , 0. , 0. , 0. , 0. , 0.2, 0.2, 0. ,\n",
       "         0. , 0.2, 2. ]]),\n",
       " array([[2.6 , 0.2 , 0.2 , 0.05],\n",
       "        [0.2 , 2.6 , 0.05, 0.2 ],\n",
       "        [0.2 , 0.05, 2.6 , 0.2 ],\n",
       "        [0.05, 0.2 , 0.2 , 2.6 ]]),\n",
       " array([[3.05]])]"
      ]
     },
     "execution_count": 8,
     "metadata": {},
     "output_type": "execute_result"
    }
   ],
   "source": [
    "results['M_bs']"
   ]
  },
  {
   "cell_type": "code",
   "execution_count": 9,
   "metadata": {},
   "outputs": [
    {
     "data": {
      "image/png": "[encoded data removed]",
      "text/plain": [
       "<Figure size 432x288 with 6 Axes>"
      ]
     },
     "metadata": {
      "needs_background": "light"
     },
     "output_type": "display_data"
    }
   ],
   "source": [
    "anim = visualize.animate_results(results)"
   ]
  },
  {
   "cell_type": "code",
   "execution_count": 10,
   "metadata": {},
   "outputs": [],
   "source": [
    "#for i in range(len(g_bas)):\n",
    "#    visualize.plot_case_counts(results['N_bs'][i], results['N_bs'][i+1], 0, g_bas[i])"
   ]
  },
  {
   "cell_type": "code",
   "execution_count": 11,
   "metadata": {},
   "outputs": [],
   "source": [
    "# anim"
   ]
  },
  {
   "cell_type": "code",
   "execution_count": null,
   "metadata": {},
   "outputs": [],
   "source": []
  },
  {
   "cell_type": "markdown",
   "metadata": {},
   "source": [
    "# Debugging M_b"
   ]
  },
  {
   "cell_type": "code",
   "execution_count": 12,
   "metadata": {},
   "outputs": [
    {
     "data": {
      "text/plain": [
       "array([[ True,  True,  True,  True,  True,  True,  True,  True,  True,\n",
       "         True,  True,  True,  True,  True,  True,  True],\n",
       "       [ True,  True,  True,  True,  True,  True,  True,  True,  True,\n",
       "         True,  True,  True,  True,  True,  True,  True],\n",
       "       [ True,  True,  True,  True,  True,  True,  True,  True,  True,\n",
       "         True,  True,  True,  True,  True,  True,  True],\n",
       "       [ True,  True,  True,  True,  True,  True,  True,  True,  True,\n",
       "         True,  True,  True,  True,  True,  True,  True],\n",
       "       [ True,  True,  True,  True,  True,  True,  True,  True,  True,\n",
       "         True,  True,  True,  True,  True,  True,  True],\n",
       "       [ True,  True,  True,  True,  True,  True,  True,  True,  True,\n",
       "         True,  True,  True,  True,  True,  True,  True],\n",
       "       [ True,  True,  True,  True,  True,  True,  True,  True,  True,\n",
       "         True,  True,  True,  True,  True,  True,  True],\n",
       "       [ True,  True,  True,  True,  True,  True,  True,  True,  True,\n",
       "         True,  True,  True,  True,  True,  True,  True],\n",
       "       [ True,  True,  True,  True,  True,  True,  True,  True,  True,\n",
       "         True,  True,  True,  True,  True,  True,  True],\n",
       "       [ True,  True,  True,  True,  True,  True,  True,  True,  True,\n",
       "         True,  True,  True,  True,  True,  True,  True],\n",
       "       [ True,  True,  True,  True,  True,  True,  True,  True,  True,\n",
       "         True,  True,  True,  True,  True,  True,  True],\n",
       "       [ True,  True,  True,  True,  True,  True,  True,  True,  True,\n",
       "         True,  True,  True,  True,  True,  True,  True],\n",
       "       [ True,  True,  True,  True,  True,  True,  True,  True,  True,\n",
       "         True,  True,  True,  True,  True,  True,  True],\n",
       "       [ True,  True,  True,  True,  True,  True,  True,  True,  True,\n",
       "         True,  True,  True,  True,  True,  True,  True],\n",
       "       [ True,  True,  True,  True,  True,  True,  True,  True,  True,\n",
       "         True,  True,  True,  True,  True,  True,  True],\n",
       "       [ True,  True,  True,  True,  True,  True,  True,  True,  True,\n",
       "         True,  True,  True,  True,  True,  True,  True]])"
      ]
     },
     "execution_count": 12,
     "metadata": {},
     "output_type": "execute_result"
    }
   ],
   "source": [
    "results['M_bs'][0] == M_a"
   ]
  },
  {
   "cell_type": "code",
   "execution_count": 13,
   "metadata": {},
   "outputs": [],
   "source": [
    "M_bs_1, g_ab = projections.Projections().sub_matrix_eigenvector(M_a, g_bas[0], return_g_ab=True)"
   ]
  },
  {
   "cell_type": "code",
   "execution_count": 14,
   "metadata": {},
   "outputs": [
    {
     "data": {
      "text/plain": [
       "array([[2.6 , 0.2 , 0.2 , 0.05],\n",
       "       [0.2 , 2.6 , 0.05, 0.2 ],\n",
       "       [0.2 , 0.05, 2.6 , 0.2 ],\n",
       "       [0.05, 0.2 , 0.2 , 2.6 ]])"
      ]
     },
     "execution_count": 14,
     "metadata": {},
     "output_type": "execute_result"
    }
   ],
   "source": [
    "results['M_bs'][1]"
   ]
  },
  {
   "cell_type": "code",
   "execution_count": 15,
   "metadata": {},
   "outputs": [
    {
     "data": {
      "text/plain": [
       "array([[2.6 , 0.2 , 0.2 , 0.05],\n",
       "       [0.2 , 2.6 , 0.05, 0.2 ],\n",
       "       [0.2 , 0.05, 2.6 , 0.2 ],\n",
       "       [0.05, 0.2 , 0.2 , 2.6 ]])"
      ]
     },
     "execution_count": 15,
     "metadata": {},
     "output_type": "execute_result"
    }
   ],
   "source": [
    "M_bs_1"
   ]
  },
  {
   "cell_type": "code",
   "execution_count": 16,
   "metadata": {},
   "outputs": [
    {
     "data": {
      "text/plain": [
       "array([[1., 1., 0., 0., 1., 1., 0., 0., 0., 0., 0., 0., 0., 0., 0., 0.],\n",
       "       [0., 0., 1., 1., 0., 0., 1., 1., 0., 0., 0., 0., 0., 0., 0., 0.],\n",
       "       [0., 0., 0., 0., 0., 0., 0., 0., 1., 1., 0., 0., 1., 1., 0., 0.],\n",
       "       [0., 0., 0., 0., 0., 0., 0., 0., 0., 0., 1., 1., 0., 0., 1., 1.]])"
      ]
     },
     "execution_count": 16,
     "metadata": {},
     "output_type": "execute_result"
    }
   ],
   "source": [
    "g_bas[0]"
   ]
  },
  {
   "cell_type": "code",
   "execution_count": 17,
   "metadata": {},
   "outputs": [
    {
     "data": {
      "text/plain": [
       "array([[0.25, 0.  , 0.  , 0.  ],\n",
       "       [0.25, 0.  , 0.  , 0.  ],\n",
       "       [0.  , 0.25, 0.  , 0.  ],\n",
       "       [0.  , 0.25, 0.  , 0.  ],\n",
       "       [0.25, 0.  , 0.  , 0.  ],\n",
       "       [0.25, 0.  , 0.  , 0.  ],\n",
       "       [0.  , 0.25, 0.  , 0.  ],\n",
       "       [0.  , 0.25, 0.  , 0.  ],\n",
       "       [0.  , 0.  , 0.25, 0.  ],\n",
       "       [0.  , 0.  , 0.25, 0.  ],\n",
       "       [0.  , 0.  , 0.  , 0.25],\n",
       "       [0.  , 0.  , 0.  , 0.25],\n",
       "       [0.  , 0.  , 0.25, 0.  ],\n",
       "       [0.  , 0.  , 0.25, 0.  ],\n",
       "       [0.  , 0.  , 0.  , 0.25],\n",
       "       [0.  , 0.  , 0.  , 0.25]])"
      ]
     },
     "execution_count": 17,
     "metadata": {},
     "output_type": "execute_result"
    }
   ],
   "source": [
    "g_ab"
   ]
  },
  {
   "cell_type": "code",
   "execution_count": 18,
   "metadata": {},
   "outputs": [
    {
     "data": {
      "text/plain": [
       "array([[2.6 , 0.2 , 0.2 , 0.05],\n",
       "       [0.2 , 2.6 , 0.05, 0.2 ],\n",
       "       [0.2 , 0.05, 2.6 , 0.2 ],\n",
       "       [0.05, 0.2 , 0.2 , 2.6 ]])"
      ]
     },
     "execution_count": 18,
     "metadata": {},
     "output_type": "execute_result"
    }
   ],
   "source": [
    "g_bas[0] @ M_a @ g_ab"
   ]
  },
  {
   "cell_type": "code",
   "execution_count": 19,
   "metadata": {},
   "outputs": [
    {
     "data": {
      "text/plain": [
       "array([[2. , 0.2, 0. , 0. , 0.2, 0.2, 0. , 0. , 0. , 0. , 0. , 0. , 0. ,\n",
       "        0. , 0. , 0. ],\n",
       "       [0.2, 2. , 0.2, 0. , 0.2, 0.2, 0.2, 0. , 0. , 0. , 0. , 0. , 0. ,\n",
       "        0. , 0. , 0. ],\n",
       "       [0. , 0.2, 2. , 0.2, 0. , 0.2, 0.2, 0.2, 0. , 0. , 0. , 0. , 0. ,\n",
       "        0. , 0. , 0. ],\n",
       "       [0. , 0. , 0.2, 2. , 0. , 0. , 0.2, 0.2, 0. , 0. , 0. , 0. , 0. ,\n",
       "        0. , 0. , 0. ],\n",
       "       [0.2, 0.2, 0. , 0. , 2. , 0.2, 0. , 0. , 0.2, 0.2, 0. , 0. , 0. ,\n",
       "        0. , 0. , 0. ],\n",
       "       [0.2, 0.2, 0.2, 0. , 0.2, 2. , 0.2, 0. , 0.2, 0.2, 0.2, 0. , 0. ,\n",
       "        0. , 0. , 0. ],\n",
       "       [0. , 0.2, 0.2, 0.2, 0. , 0.2, 2. , 0.2, 0. , 0.2, 0.2, 0.2, 0. ,\n",
       "        0. , 0. , 0. ],\n",
       "       [0. , 0. , 0.2, 0.2, 0. , 0. , 0.2, 2. , 0. , 0. , 0.2, 0.2, 0. ,\n",
       "        0. , 0. , 0. ],\n",
       "       [0. , 0. , 0. , 0. , 0.2, 0.2, 0. , 0. , 2. , 0.2, 0. , 0. , 0.2,\n",
       "        0.2, 0. , 0. ],\n",
       "       [0. , 0. , 0. , 0. , 0.2, 0.2, 0.2, 0. , 0.2, 2. , 0.2, 0. , 0.2,\n",
       "        0.2, 0.2, 0. ],\n",
       "       [0. , 0. , 0. , 0. , 0. , 0.2, 0.2, 0.2, 0. , 0.2, 2. , 0.2, 0. ,\n",
       "        0.2, 0.2, 0.2],\n",
       "       [0. , 0. , 0. , 0. , 0. , 0. , 0.2, 0.2, 0. , 0. , 0.2, 2. , 0. ,\n",
       "        0. , 0.2, 0.2],\n",
       "       [0. , 0. , 0. , 0. , 0. , 0. , 0. , 0. , 0.2, 0.2, 0. , 0. , 2. ,\n",
       "        0.2, 0. , 0. ],\n",
       "       [0. , 0. , 0. , 0. , 0. , 0. , 0. , 0. , 0.2, 0.2, 0.2, 0. , 0.2,\n",
       "        2. , 0.2, 0. ],\n",
       "       [0. , 0. , 0. , 0. , 0. , 0. , 0. , 0. , 0. , 0.2, 0.2, 0.2, 0. ,\n",
       "        0.2, 2. , 0.2],\n",
       "       [0. , 0. , 0. , 0. , 0. , 0. , 0. , 0. , 0. , 0. , 0.2, 0.2, 0. ,\n",
       "        0. , 0.2, 2. ]])"
      ]
     },
     "execution_count": 19,
     "metadata": {},
     "output_type": "execute_result"
    }
   ],
   "source": [
    "M_a"
   ]
  },
  {
   "cell_type": "code",
   "execution_count": null,
   "metadata": {},
   "outputs": [],
   "source": []
  }
 ],
 "metadata": {
  "kernelspec": {
   "display_name": "Python 3",
   "language": "python",
   "name": "python3"
  },
  "language_info": {
   "codemirror_mode": {
    "name": "ipython",
    "version": 3
   },
   "file_extension": ".py",
   "mimetype": "text/x-python",
   "name": "python",
   "nbconvert_exporter": "python",
   "pygments_lexer": "ipython3",
   "version": "3.7.0"
  }
 },
 "nbformat": 4,
 "nbformat_minor": 4
}
